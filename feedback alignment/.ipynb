{
 "cells": [
  {
   "cell_type": "code",
   "execution_count": 1,
   "metadata": {},
   "outputs": [],
   "source": [
    "import torch\n",
    "import torch.nn as nn\n",
    "import torchvision.transforms as transforms\n",
    "import torch.nn.functional as F\n",
    "import torchvision\n",
    "import torch.optim as optim\n",
    "\n",
    "from torch.utils.tensorboard import SummaryWriter\n",
    "from datetime import datetime\n",
    "\n",
    "from biotorch.benchmark.run import Benchmark\n",
    "from biotorch.module.biomodule import BioModule"
   ]
  },
  {
   "cell_type": "code",
   "execution_count": 2,
   "metadata": {},
   "outputs": [
    {
     "data": {
      "text/plain": [
       "<torch._C.Generator at 0x27348757d90>"
      ]
     },
     "execution_count": 2,
     "metadata": {},
     "output_type": "execute_result"
    }
   ],
   "source": [
    "n_epochs = 3\n",
    "batch_size_train = 64\n",
    "batch_size_test = 1000\n",
    "learning_rate = 0.01\n",
    "momentum = 0.5\n",
    "log_interval = 10\n",
    "\n",
    "random_seed = 1\n",
    "torch.backends.cudnn.enabled = False\n",
    "torch.manual_seed(random_seed)"
   ]
  },
  {
   "cell_type": "markdown",
   "metadata": {},
   "source": [
    "Feedback Alignment on MNIST"
   ]
  },
  {
   "cell_type": "code",
   "execution_count": 3,
   "metadata": {},
   "outputs": [
    {
     "name": "stdout",
     "output_type": "stream",
     "text": [
      "Train size:  60000\n",
      "Test size:  10000\n"
     ]
    }
   ],
   "source": [
    "train_loader = torch.utils.data.DataLoader(\n",
    "  torchvision.datasets.MNIST('./data', train=True, \n",
    "                             transform=torchvision.transforms.Compose([\n",
    "                               torchvision.transforms.ToTensor(),\n",
    "                               torchvision.transforms.Normalize(\n",
    "                                 (0.1307,), (0.3081,))\n",
    "                             ])),\n",
    "  batch_size=batch_size_train, shuffle=True)\n",
    "\n",
    "test_loader = torch.utils.data.DataLoader(\n",
    "  torchvision.datasets.MNIST('./data', train=False, \n",
    "                             transform=torchvision.transforms.Compose([\n",
    "                               torchvision.transforms.ToTensor(),\n",
    "                               torchvision.transforms.Normalize(\n",
    "                                 (0.1307,), (0.3081,))\n",
    "                             ])),\n",
    "  batch_size=batch_size_test, shuffle=True)\n",
    "\n",
    "print(\"Train size: \", len(train_loader.dataset))\n",
    "print(\"Test size: \", len(test_loader.dataset))"
   ]
  },
  {
   "cell_type": "code",
   "execution_count": 4,
   "metadata": {},
   "outputs": [],
   "source": [
    "# create an ANN model using pytorch of 3 layers with\n",
    "# 1. 784 input neurons\n",
    "# 2. 50 hidden neurons\n",
    "# 3. 10 output neurons\n",
    "\n",
    "class ANN(nn.Module):\n",
    "    def __init__(self):\n",
    "        super(ANN, self).__init__()\n",
    "        self.fc1 = nn.Linear(784, 50)\n",
    "        self.fc2 = nn.Linear(50, 10)\n",
    "\n",
    "    def forward(self, x):\n",
    "        x = x.view(-1, 784)\n",
    "        x = F.relu(self.fc1(x))\n",
    "        x = self.fc2(x)\n",
    "        return F.log_softmax(x, dim=1)"
   ]
  },
  {
   "cell_type": "code",
   "execution_count": 12,
   "metadata": {},
   "outputs": [
    {
     "name": "stdout",
     "output_type": "stream",
     "text": [
      "Module has been converted to dfa mode:\n",
      "\n",
      "The layer configuration was:  {'type': 'dfa', 'options': {'constrain_weights': False, 'gradient_clip': False, 'init': 'xavier'}}\n",
      "- All the 2 <class 'torch.nn.modules.linear.Linear'> layers were converted successfully.\n",
      "BioModule(\n",
      "  (module): ANN(\n",
      "    (fc1): Linear(in_features=784, out_features=50, bias=True)\n",
      "    (fc2): Linear(in_features=50, out_features=10, bias=True)\n",
      "  )\n",
      ")\n"
     ]
    }
   ],
   "source": [
    "# covert the ANN model to a BioModule model\n",
    "\n",
    "model = ANN()\n",
    "fa = BioModule(model, mode='dfa', output_dim=10)\n",
    "print(fa)"
   ]
  },
  {
   "cell_type": "code",
   "execution_count": 13,
   "metadata": {},
   "outputs": [],
   "source": [
    "optimizer = optim.SGD(model.parameters(), lr=learning_rate,\n",
    "                      momentum=momentum)"
   ]
  },
  {
   "cell_type": "code",
   "execution_count": 15,
   "metadata": {},
   "outputs": [],
   "source": [
    "train_losses = []\n",
    "train_counter = []\n",
    "test_losses = []\n",
    "test_counter = [i*len(train_loader.dataset) for i in range(n_epochs + 1)]"
   ]
  },
  {
   "cell_type": "code",
   "execution_count": 16,
   "metadata": {},
   "outputs": [],
   "source": [
    "network = fa"
   ]
  },
  {
   "cell_type": "code",
   "execution_count": 17,
   "metadata": {},
   "outputs": [],
   "source": [
    "def train(epoch):\n",
    "  network.train()\n",
    "  for batch_idx, (data, target) in enumerate(train_loader):\n",
    "    optimizer.zero_grad()\n",
    "    output = network(data)\n",
    "    loss = F.nll_loss(output, target)\n",
    "    loss.backward()\n",
    "    optimizer.step()\n",
    "    if batch_idx % log_interval == 0:\n",
    "      print('Train Epoch: {} [{}/{} ({:.0f}%)]\\tLoss: {:.6f}'.format(\n",
    "        epoch, batch_idx * len(data), len(train_loader.dataset),\n",
    "        100. * batch_idx / len(train_loader), loss.item()))\n",
    "      train_losses.append(loss.item())\n",
    "      train_counter.append(\n",
    "        (batch_idx*64) + ((epoch-1)*len(train_loader.dataset)))\n",
    "      # torch.save(network.state_dict(), '/results/model.pth')\n",
    "      # torch.save(optimizer.state_dict(), '/results/optimizer.pth')"
   ]
  },
  {
   "cell_type": "code",
   "execution_count": 18,
   "metadata": {},
   "outputs": [],
   "source": [
    "def test():\n",
    "  network.eval()\n",
    "  test_loss = 0\n",
    "  correct = 0\n",
    "  with torch.no_grad():\n",
    "    for data, target in test_loader:\n",
    "      output = network(data)\n",
    "      test_loss += F.nll_loss(output, target, size_average=False).item()\n",
    "      pred = output.data.max(1, keepdim=True)[1]\n",
    "      correct += pred.eq(target.data.view_as(pred)).sum()\n",
    "  test_loss /= len(test_loader.dataset)\n",
    "  test_losses.append(test_loss)\n",
    "  print('\\nTest set: Avg. loss: {:.4f}, Accuracy: {}/{} ({:.0f}%)\\n'.format(\n",
    "    test_loss, correct, len(test_loader.dataset),\n",
    "    100. * correct / len(test_loader.dataset)))"
   ]
  },
  {
   "cell_type": "code",
   "execution_count": 19,
   "metadata": {},
   "outputs": [
    {
     "name": "stdout",
     "output_type": "stream",
     "text": [
      "\n",
      "Test set: Avg. loss: 2.3315, Accuracy: 1449/10000 (14%)\n",
      "\n"
     ]
    },
    {
     "name": "stderr",
     "output_type": "stream",
     "text": [
      "C:\\Users\\patel\\AppData\\Local\\Packages\\PythonSoftwareFoundation.Python.3.11_qbz5n2kfra8p0\\LocalCache\\local-packages\\Python311\\site-packages\\torch\\nn\\modules\\module.py:1352: UserWarning: Using a non-full backward hook when the forward contains multiple autograd Nodes is deprecated and will be removed in future versions. This hook will be missing some grad_input. Please use register_full_backward_hook to get the documented behavior.\n",
      "  warnings.warn(\"Using a non-full backward hook when the forward contains multiple autograd Nodes \"\n"
     ]
    },
    {
     "ename": "ValueError",
     "evalue": "Targets missing for Direct Feedback Alignment mode",
     "output_type": "error",
     "traceback": [
      "\u001b[1;31m---------------------------------------------------------------------------\u001b[0m",
      "\u001b[1;31mValueError\u001b[0m                                Traceback (most recent call last)",
      "Cell \u001b[1;32mIn[19], line 3\u001b[0m\n\u001b[0;32m      1\u001b[0m test()\n\u001b[0;32m      2\u001b[0m \u001b[38;5;28;01mfor\u001b[39;00m epoch \u001b[38;5;129;01min\u001b[39;00m \u001b[38;5;28mrange\u001b[39m(\u001b[38;5;241m1\u001b[39m, n_epochs \u001b[38;5;241m+\u001b[39m \u001b[38;5;241m1\u001b[39m):\n\u001b[1;32m----> 3\u001b[0m   \u001b[43mtrain\u001b[49m\u001b[43m(\u001b[49m\u001b[43mepoch\u001b[49m\u001b[43m)\u001b[49m\n\u001b[0;32m      4\u001b[0m   test()\n",
      "Cell \u001b[1;32mIn[17], line 5\u001b[0m, in \u001b[0;36mtrain\u001b[1;34m(epoch)\u001b[0m\n\u001b[0;32m      3\u001b[0m \u001b[38;5;28;01mfor\u001b[39;00m batch_idx, (data, target) \u001b[38;5;129;01min\u001b[39;00m \u001b[38;5;28menumerate\u001b[39m(train_loader):\n\u001b[0;32m      4\u001b[0m   optimizer\u001b[38;5;241m.\u001b[39mzero_grad()\n\u001b[1;32m----> 5\u001b[0m   output \u001b[38;5;241m=\u001b[39m \u001b[43mnetwork\u001b[49m\u001b[43m(\u001b[49m\u001b[43mdata\u001b[49m\u001b[43m)\u001b[49m\n\u001b[0;32m      6\u001b[0m   loss \u001b[38;5;241m=\u001b[39m F\u001b[38;5;241m.\u001b[39mnll_loss(output, target)\n\u001b[0;32m      7\u001b[0m   loss\u001b[38;5;241m.\u001b[39mbackward()\n",
      "File \u001b[1;32m~\\AppData\\Local\\Packages\\PythonSoftwareFoundation.Python.3.11_qbz5n2kfra8p0\\LocalCache\\local-packages\\Python311\\site-packages\\torch\\nn\\modules\\module.py:1511\u001b[0m, in \u001b[0;36mModule._wrapped_call_impl\u001b[1;34m(self, *args, **kwargs)\u001b[0m\n\u001b[0;32m   1509\u001b[0m     \u001b[38;5;28;01mreturn\u001b[39;00m \u001b[38;5;28mself\u001b[39m\u001b[38;5;241m.\u001b[39m_compiled_call_impl(\u001b[38;5;241m*\u001b[39margs, \u001b[38;5;241m*\u001b[39m\u001b[38;5;241m*\u001b[39mkwargs)  \u001b[38;5;66;03m# type: ignore[misc]\u001b[39;00m\n\u001b[0;32m   1510\u001b[0m \u001b[38;5;28;01melse\u001b[39;00m:\n\u001b[1;32m-> 1511\u001b[0m     \u001b[38;5;28;01mreturn\u001b[39;00m \u001b[38;5;28;43mself\u001b[39;49m\u001b[38;5;241;43m.\u001b[39;49m\u001b[43m_call_impl\u001b[49m\u001b[43m(\u001b[49m\u001b[38;5;241;43m*\u001b[39;49m\u001b[43margs\u001b[49m\u001b[43m,\u001b[49m\u001b[43m \u001b[49m\u001b[38;5;241;43m*\u001b[39;49m\u001b[38;5;241;43m*\u001b[39;49m\u001b[43mkwargs\u001b[49m\u001b[43m)\u001b[49m\n",
      "File \u001b[1;32m~\\AppData\\Local\\Packages\\PythonSoftwareFoundation.Python.3.11_qbz5n2kfra8p0\\LocalCache\\local-packages\\Python311\\site-packages\\torch\\nn\\modules\\module.py:1520\u001b[0m, in \u001b[0;36mModule._call_impl\u001b[1;34m(self, *args, **kwargs)\u001b[0m\n\u001b[0;32m   1515\u001b[0m \u001b[38;5;66;03m# If we don't have any hooks, we want to skip the rest of the logic in\u001b[39;00m\n\u001b[0;32m   1516\u001b[0m \u001b[38;5;66;03m# this function, and just call forward.\u001b[39;00m\n\u001b[0;32m   1517\u001b[0m \u001b[38;5;28;01mif\u001b[39;00m \u001b[38;5;129;01mnot\u001b[39;00m (\u001b[38;5;28mself\u001b[39m\u001b[38;5;241m.\u001b[39m_backward_hooks \u001b[38;5;129;01mor\u001b[39;00m \u001b[38;5;28mself\u001b[39m\u001b[38;5;241m.\u001b[39m_backward_pre_hooks \u001b[38;5;129;01mor\u001b[39;00m \u001b[38;5;28mself\u001b[39m\u001b[38;5;241m.\u001b[39m_forward_hooks \u001b[38;5;129;01mor\u001b[39;00m \u001b[38;5;28mself\u001b[39m\u001b[38;5;241m.\u001b[39m_forward_pre_hooks\n\u001b[0;32m   1518\u001b[0m         \u001b[38;5;129;01mor\u001b[39;00m _global_backward_pre_hooks \u001b[38;5;129;01mor\u001b[39;00m _global_backward_hooks\n\u001b[0;32m   1519\u001b[0m         \u001b[38;5;129;01mor\u001b[39;00m _global_forward_hooks \u001b[38;5;129;01mor\u001b[39;00m _global_forward_pre_hooks):\n\u001b[1;32m-> 1520\u001b[0m     \u001b[38;5;28;01mreturn\u001b[39;00m \u001b[43mforward_call\u001b[49m\u001b[43m(\u001b[49m\u001b[38;5;241;43m*\u001b[39;49m\u001b[43margs\u001b[49m\u001b[43m,\u001b[49m\u001b[43m \u001b[49m\u001b[38;5;241;43m*\u001b[39;49m\u001b[38;5;241;43m*\u001b[39;49m\u001b[43mkwargs\u001b[49m\u001b[43m)\u001b[49m\n\u001b[0;32m   1522\u001b[0m \u001b[38;5;28;01mtry\u001b[39;00m:\n\u001b[0;32m   1523\u001b[0m     result \u001b[38;5;241m=\u001b[39m \u001b[38;5;28;01mNone\u001b[39;00m\n",
      "File \u001b[1;32m~\\AppData\\Local\\Packages\\PythonSoftwareFoundation.Python.3.11_qbz5n2kfra8p0\\LocalCache\\local-packages\\Python311\\site-packages\\biotorch\\module\\biomodule.py:29\u001b[0m, in \u001b[0;36mBioModule.forward\u001b[1;34m(self, x, targets, loss_function)\u001b[0m\n\u001b[0;32m     27\u001b[0m \u001b[38;5;28;01mif\u001b[39;00m \u001b[38;5;28mself\u001b[39m\u001b[38;5;241m.\u001b[39mmode \u001b[38;5;241m==\u001b[39m \u001b[38;5;124m'\u001b[39m\u001b[38;5;124mdfa\u001b[39m\u001b[38;5;124m'\u001b[39m \u001b[38;5;129;01mand\u001b[39;00m \u001b[38;5;28mself\u001b[39m\u001b[38;5;241m.\u001b[39mmodule\u001b[38;5;241m.\u001b[39mtraining:\n\u001b[0;32m     28\u001b[0m     \u001b[38;5;28;01mif\u001b[39;00m targets \u001b[38;5;129;01mis\u001b[39;00m \u001b[38;5;28;01mNone\u001b[39;00m:\n\u001b[1;32m---> 29\u001b[0m         \u001b[38;5;28;01mraise\u001b[39;00m \u001b[38;5;167;01mValueError\u001b[39;00m(\u001b[38;5;124m'\u001b[39m\u001b[38;5;124mTargets missing for Direct Feedback Alignment mode\u001b[39m\u001b[38;5;124m'\u001b[39m)\n\u001b[0;32m     30\u001b[0m     \u001b[38;5;28;01mif\u001b[39;00m loss_function \u001b[38;5;129;01mis\u001b[39;00m \u001b[38;5;28;01mNone\u001b[39;00m:\n\u001b[0;32m     31\u001b[0m         \u001b[38;5;28;01mraise\u001b[39;00m \u001b[38;5;167;01mValueError\u001b[39;00m(\u001b[38;5;124m'\u001b[39m\u001b[38;5;124mYou need to introduce your `loss_function` for Direct Feedback Alignment mode\u001b[39m\u001b[38;5;124m'\u001b[39m)\n",
      "\u001b[1;31mValueError\u001b[0m: Targets missing for Direct Feedback Alignment mode"
     ]
    }
   ],
   "source": [
    "test()\n",
    "for epoch in range(1, n_epochs + 1):\n",
    "  train(epoch)\n",
    "  test()"
   ]
  },
  {
   "cell_type": "code",
   "execution_count": null,
   "metadata": {},
   "outputs": [],
   "source": [
    "network = model"
   ]
  },
  {
   "cell_type": "code",
   "execution_count": null,
   "metadata": {},
   "outputs": [
    {
     "name": "stderr",
     "output_type": "stream",
     "text": [
      "C:\\Users\\patel\\AppData\\Local\\Packages\\PythonSoftwareFoundation.Python.3.11_qbz5n2kfra8p0\\LocalCache\\local-packages\\Python311\\site-packages\\torch\\nn\\_reduction.py:42: UserWarning: size_average and reduce args will be deprecated, please use reduction='sum' instead.\n",
      "  warnings.warn(warning.format(ret))\n"
     ]
    },
    {
     "name": "stdout",
     "output_type": "stream",
     "text": [
      "\n",
      "Test set: Avg. loss: 2.2771, Accuracy: 1504/10000 (15%)\n",
      "\n",
      "Train Epoch: 1 [0/60000 (0%)]\tLoss: 2.230740\n",
      "Train Epoch: 1 [640/60000 (1%)]\tLoss: 2.217782\n",
      "Train Epoch: 1 [1280/60000 (2%)]\tLoss: 2.071470\n",
      "Train Epoch: 1 [1920/60000 (3%)]\tLoss: 1.778829\n",
      "Train Epoch: 1 [2560/60000 (4%)]\tLoss: 1.228550\n",
      "Train Epoch: 1 [3200/60000 (5%)]\tLoss: 0.895057\n",
      "Train Epoch: 1 [3840/60000 (6%)]\tLoss: 0.653168\n",
      "Train Epoch: 1 [4480/60000 (7%)]\tLoss: 0.687505\n",
      "Train Epoch: 1 [5120/60000 (9%)]\tLoss: 0.862351\n",
      "Train Epoch: 1 [5760/60000 (10%)]\tLoss: 0.589438\n",
      "Train Epoch: 1 [6400/60000 (11%)]\tLoss: 0.746260\n",
      "Train Epoch: 1 [7040/60000 (12%)]\tLoss: 0.786535\n",
      "Train Epoch: 1 [7680/60000 (13%)]\tLoss: 0.518141\n",
      "Train Epoch: 1 [8320/60000 (14%)]\tLoss: 0.501664\n",
      "Train Epoch: 1 [8960/60000 (15%)]\tLoss: 0.609061\n",
      "Train Epoch: 1 [9600/60000 (16%)]\tLoss: 0.321234\n",
      "Train Epoch: 1 [10240/60000 (17%)]\tLoss: 0.471496\n",
      "Train Epoch: 1 [10880/60000 (18%)]\tLoss: 0.512135\n",
      "Train Epoch: 1 [11520/60000 (19%)]\tLoss: 0.604539\n",
      "Train Epoch: 1 [12160/60000 (20%)]\tLoss: 0.376417\n",
      "Train Epoch: 1 [12800/60000 (21%)]\tLoss: 0.417337\n",
      "Train Epoch: 1 [13440/60000 (22%)]\tLoss: 0.449512\n",
      "Train Epoch: 1 [14080/60000 (23%)]\tLoss: 0.470604\n",
      "Train Epoch: 1 [14720/60000 (25%)]\tLoss: 0.311517\n",
      "Train Epoch: 1 [15360/60000 (26%)]\tLoss: 0.510931\n",
      "Train Epoch: 1 [16000/60000 (27%)]\tLoss: 0.610881\n",
      "Train Epoch: 1 [16640/60000 (28%)]\tLoss: 0.477765\n",
      "Train Epoch: 1 [17280/60000 (29%)]\tLoss: 0.366511\n",
      "Train Epoch: 1 [17920/60000 (30%)]\tLoss: 0.337193\n",
      "Train Epoch: 1 [18560/60000 (31%)]\tLoss: 0.275569\n",
      "Train Epoch: 1 [19200/60000 (32%)]\tLoss: 0.339512\n",
      "Train Epoch: 1 [19840/60000 (33%)]\tLoss: 0.600813\n",
      "Train Epoch: 1 [20480/60000 (34%)]\tLoss: 0.651589\n",
      "Train Epoch: 1 [21120/60000 (35%)]\tLoss: 0.403705\n",
      "Train Epoch: 1 [21760/60000 (36%)]\tLoss: 0.372550\n",
      "Train Epoch: 1 [22400/60000 (37%)]\tLoss: 0.266353\n",
      "Train Epoch: 1 [23040/60000 (38%)]\tLoss: 0.494185\n",
      "Train Epoch: 1 [23680/60000 (39%)]\tLoss: 0.237848\n",
      "Train Epoch: 1 [24320/60000 (41%)]\tLoss: 0.207833\n",
      "Train Epoch: 1 [24960/60000 (42%)]\tLoss: 0.263358\n",
      "Train Epoch: 1 [25600/60000 (43%)]\tLoss: 0.373989\n",
      "Train Epoch: 1 [26240/60000 (44%)]\tLoss: 0.355227\n",
      "Train Epoch: 1 [26880/60000 (45%)]\tLoss: 0.223291\n",
      "Train Epoch: 1 [27520/60000 (46%)]\tLoss: 0.456140\n",
      "Train Epoch: 1 [28160/60000 (47%)]\tLoss: 0.314275\n",
      "Train Epoch: 1 [28800/60000 (48%)]\tLoss: 0.284355\n",
      "Train Epoch: 1 [29440/60000 (49%)]\tLoss: 0.442390\n",
      "Train Epoch: 1 [30080/60000 (50%)]\tLoss: 0.390335\n",
      "Train Epoch: 1 [30720/60000 (51%)]\tLoss: 0.202527\n",
      "Train Epoch: 1 [31360/60000 (52%)]\tLoss: 0.458685\n",
      "Train Epoch: 1 [32000/60000 (53%)]\tLoss: 0.471340\n",
      "Train Epoch: 1 [32640/60000 (54%)]\tLoss: 0.512425\n",
      "Train Epoch: 1 [33280/60000 (55%)]\tLoss: 0.291225\n",
      "Train Epoch: 1 [33920/60000 (57%)]\tLoss: 0.374948\n",
      "Train Epoch: 1 [34560/60000 (58%)]\tLoss: 0.372407\n",
      "Train Epoch: 1 [35200/60000 (59%)]\tLoss: 0.293662\n",
      "Train Epoch: 1 [35840/60000 (60%)]\tLoss: 0.282765\n",
      "Train Epoch: 1 [36480/60000 (61%)]\tLoss: 0.277351\n",
      "Train Epoch: 1 [37120/60000 (62%)]\tLoss: 0.263250\n",
      "Train Epoch: 1 [37760/60000 (63%)]\tLoss: 0.335512\n",
      "Train Epoch: 1 [38400/60000 (64%)]\tLoss: 0.173705\n",
      "Train Epoch: 1 [39040/60000 (65%)]\tLoss: 0.300993\n",
      "Train Epoch: 1 [39680/60000 (66%)]\tLoss: 0.318893\n",
      "Train Epoch: 1 [40320/60000 (67%)]\tLoss: 0.330211\n",
      "Train Epoch: 1 [40960/60000 (68%)]\tLoss: 0.287114\n",
      "Train Epoch: 1 [41600/60000 (69%)]\tLoss: 0.329778\n",
      "Train Epoch: 1 [42240/60000 (70%)]\tLoss: 0.348839\n",
      "Train Epoch: 1 [42880/60000 (71%)]\tLoss: 0.321242\n",
      "Train Epoch: 1 [43520/60000 (72%)]\tLoss: 0.392757\n",
      "Train Epoch: 1 [44160/60000 (74%)]\tLoss: 0.267669\n",
      "Train Epoch: 1 [44800/60000 (75%)]\tLoss: 0.284572\n",
      "Train Epoch: 1 [45440/60000 (76%)]\tLoss: 0.225298\n",
      "Train Epoch: 1 [46080/60000 (77%)]\tLoss: 0.628781\n",
      "Train Epoch: 1 [46720/60000 (78%)]\tLoss: 0.202801\n",
      "Train Epoch: 1 [47360/60000 (79%)]\tLoss: 0.177759\n",
      "Train Epoch: 1 [48000/60000 (80%)]\tLoss: 0.369489\n",
      "Train Epoch: 1 [48640/60000 (81%)]\tLoss: 0.240426\n",
      "Train Epoch: 1 [49280/60000 (82%)]\tLoss: 0.488225\n",
      "Train Epoch: 1 [49920/60000 (83%)]\tLoss: 0.205873\n",
      "Train Epoch: 1 [50560/60000 (84%)]\tLoss: 0.272267\n",
      "Train Epoch: 1 [51200/60000 (85%)]\tLoss: 0.528923\n",
      "Train Epoch: 1 [51840/60000 (86%)]\tLoss: 0.265445\n",
      "Train Epoch: 1 [52480/60000 (87%)]\tLoss: 0.421452\n",
      "Train Epoch: 1 [53120/60000 (88%)]\tLoss: 0.380674\n",
      "Train Epoch: 1 [53760/60000 (90%)]\tLoss: 0.448126\n",
      "Train Epoch: 1 [54400/60000 (91%)]\tLoss: 0.364742\n",
      "Train Epoch: 1 [55040/60000 (92%)]\tLoss: 0.255127\n",
      "Train Epoch: 1 [55680/60000 (93%)]\tLoss: 0.298320\n",
      "Train Epoch: 1 [56320/60000 (94%)]\tLoss: 0.311894\n",
      "Train Epoch: 1 [56960/60000 (95%)]\tLoss: 0.395184\n",
      "Train Epoch: 1 [57600/60000 (96%)]\tLoss: 0.233662\n",
      "Train Epoch: 1 [58240/60000 (97%)]\tLoss: 0.179066\n",
      "Train Epoch: 1 [58880/60000 (98%)]\tLoss: 0.422626\n",
      "Train Epoch: 1 [59520/60000 (99%)]\tLoss: 0.466729\n",
      "\n",
      "Test set: Avg. loss: 0.2883, Accuracy: 9135/10000 (91%)\n",
      "\n",
      "Train Epoch: 2 [0/60000 (0%)]\tLoss: 0.423190\n",
      "Train Epoch: 2 [640/60000 (1%)]\tLoss: 0.334681\n",
      "Train Epoch: 2 [1280/60000 (2%)]\tLoss: 0.197196\n",
      "Train Epoch: 2 [1920/60000 (3%)]\tLoss: 0.208185\n",
      "Train Epoch: 2 [2560/60000 (4%)]\tLoss: 0.277569\n",
      "Train Epoch: 2 [3200/60000 (5%)]\tLoss: 0.163140\n",
      "Train Epoch: 2 [3840/60000 (6%)]\tLoss: 0.191953\n",
      "Train Epoch: 2 [4480/60000 (7%)]\tLoss: 0.577603\n",
      "Train Epoch: 2 [5120/60000 (9%)]\tLoss: 0.269362\n",
      "Train Epoch: 2 [5760/60000 (10%)]\tLoss: 0.289706\n",
      "Train Epoch: 2 [6400/60000 (11%)]\tLoss: 0.284368\n",
      "Train Epoch: 2 [7040/60000 (12%)]\tLoss: 0.344294\n",
      "Train Epoch: 2 [7680/60000 (13%)]\tLoss: 0.282975\n",
      "Train Epoch: 2 [8320/60000 (14%)]\tLoss: 0.216796\n",
      "Train Epoch: 2 [8960/60000 (15%)]\tLoss: 0.150111\n",
      "Train Epoch: 2 [9600/60000 (16%)]\tLoss: 0.413365\n",
      "Train Epoch: 2 [10240/60000 (17%)]\tLoss: 0.226460\n",
      "Train Epoch: 2 [10880/60000 (18%)]\tLoss: 0.312577\n",
      "Train Epoch: 2 [11520/60000 (19%)]\tLoss: 0.353505\n",
      "Train Epoch: 2 [12160/60000 (20%)]\tLoss: 0.193704\n",
      "Train Epoch: 2 [12800/60000 (21%)]\tLoss: 0.397994\n",
      "Train Epoch: 2 [13440/60000 (22%)]\tLoss: 0.121879\n",
      "Train Epoch: 2 [14080/60000 (23%)]\tLoss: 0.254310\n",
      "Train Epoch: 2 [14720/60000 (25%)]\tLoss: 0.562874\n",
      "Train Epoch: 2 [15360/60000 (26%)]\tLoss: 0.193542\n",
      "Train Epoch: 2 [16000/60000 (27%)]\tLoss: 0.203317\n",
      "Train Epoch: 2 [16640/60000 (28%)]\tLoss: 0.291456\n",
      "Train Epoch: 2 [17280/60000 (29%)]\tLoss: 0.335453\n",
      "Train Epoch: 2 [17920/60000 (30%)]\tLoss: 0.337598\n",
      "Train Epoch: 2 [18560/60000 (31%)]\tLoss: 0.155462\n",
      "Train Epoch: 2 [19200/60000 (32%)]\tLoss: 0.340877\n",
      "Train Epoch: 2 [19840/60000 (33%)]\tLoss: 0.408191\n",
      "Train Epoch: 2 [20480/60000 (34%)]\tLoss: 0.133317\n",
      "Train Epoch: 2 [21120/60000 (35%)]\tLoss: 0.499587\n",
      "Train Epoch: 2 [21760/60000 (36%)]\tLoss: 0.205791\n",
      "Train Epoch: 2 [22400/60000 (37%)]\tLoss: 0.183613\n",
      "Train Epoch: 2 [23040/60000 (38%)]\tLoss: 0.235010\n",
      "Train Epoch: 2 [23680/60000 (39%)]\tLoss: 0.128660\n",
      "Train Epoch: 2 [24320/60000 (41%)]\tLoss: 0.296629\n",
      "Train Epoch: 2 [24960/60000 (42%)]\tLoss: 0.320195\n",
      "Train Epoch: 2 [25600/60000 (43%)]\tLoss: 0.239788\n",
      "Train Epoch: 2 [26240/60000 (44%)]\tLoss: 0.230580\n",
      "Train Epoch: 2 [26880/60000 (45%)]\tLoss: 0.312564\n",
      "Train Epoch: 2 [27520/60000 (46%)]\tLoss: 0.589477\n",
      "Train Epoch: 2 [28160/60000 (47%)]\tLoss: 0.164676\n",
      "Train Epoch: 2 [28800/60000 (48%)]\tLoss: 0.278558\n",
      "Train Epoch: 2 [29440/60000 (49%)]\tLoss: 0.239305\n",
      "Train Epoch: 2 [30080/60000 (50%)]\tLoss: 0.350191\n",
      "Train Epoch: 2 [30720/60000 (51%)]\tLoss: 0.225303\n",
      "Train Epoch: 2 [31360/60000 (52%)]\tLoss: 0.318115\n",
      "Train Epoch: 2 [32000/60000 (53%)]\tLoss: 0.428613\n",
      "Train Epoch: 2 [32640/60000 (54%)]\tLoss: 0.257653\n",
      "Train Epoch: 2 [33280/60000 (55%)]\tLoss: 0.423583\n",
      "Train Epoch: 2 [33920/60000 (57%)]\tLoss: 0.410883\n",
      "Train Epoch: 2 [34560/60000 (58%)]\tLoss: 0.309728\n",
      "Train Epoch: 2 [35200/60000 (59%)]\tLoss: 0.329308\n",
      "Train Epoch: 2 [35840/60000 (60%)]\tLoss: 0.211106\n",
      "Train Epoch: 2 [36480/60000 (61%)]\tLoss: 0.238650\n",
      "Train Epoch: 2 [37120/60000 (62%)]\tLoss: 0.434547\n",
      "Train Epoch: 2 [37760/60000 (63%)]\tLoss: 0.416345\n",
      "Train Epoch: 2 [38400/60000 (64%)]\tLoss: 0.249592\n",
      "Train Epoch: 2 [39040/60000 (65%)]\tLoss: 0.277032\n",
      "Train Epoch: 2 [39680/60000 (66%)]\tLoss: 0.178226\n",
      "Train Epoch: 2 [40320/60000 (67%)]\tLoss: 0.328425\n",
      "Train Epoch: 2 [40960/60000 (68%)]\tLoss: 0.214632\n",
      "Train Epoch: 2 [41600/60000 (69%)]\tLoss: 0.455109\n",
      "Train Epoch: 2 [42240/60000 (70%)]\tLoss: 0.395317\n",
      "Train Epoch: 2 [42880/60000 (71%)]\tLoss: 0.530716\n",
      "Train Epoch: 2 [43520/60000 (72%)]\tLoss: 0.291663\n",
      "Train Epoch: 2 [44160/60000 (74%)]\tLoss: 0.160623\n",
      "Train Epoch: 2 [44800/60000 (75%)]\tLoss: 0.195274\n",
      "Train Epoch: 2 [45440/60000 (76%)]\tLoss: 0.236420\n",
      "Train Epoch: 2 [46080/60000 (77%)]\tLoss: 0.127244\n",
      "Train Epoch: 2 [46720/60000 (78%)]\tLoss: 0.156828\n",
      "Train Epoch: 2 [47360/60000 (79%)]\tLoss: 0.377658\n",
      "Train Epoch: 2 [48000/60000 (80%)]\tLoss: 0.152607\n",
      "Train Epoch: 2 [48640/60000 (81%)]\tLoss: 0.451799\n",
      "Train Epoch: 2 [49280/60000 (82%)]\tLoss: 0.324043\n",
      "Train Epoch: 2 [49920/60000 (83%)]\tLoss: 0.327954\n",
      "Train Epoch: 2 [50560/60000 (84%)]\tLoss: 0.277788\n",
      "Train Epoch: 2 [51200/60000 (85%)]\tLoss: 0.156056\n",
      "Train Epoch: 2 [51840/60000 (86%)]\tLoss: 0.133496\n",
      "Train Epoch: 2 [52480/60000 (87%)]\tLoss: 0.377105\n",
      "Train Epoch: 2 [53120/60000 (88%)]\tLoss: 0.132489\n",
      "Train Epoch: 2 [53760/60000 (90%)]\tLoss: 0.307008\n",
      "Train Epoch: 2 [54400/60000 (91%)]\tLoss: 0.136191\n",
      "Train Epoch: 2 [55040/60000 (92%)]\tLoss: 0.145810\n",
      "Train Epoch: 2 [55680/60000 (93%)]\tLoss: 0.249424\n",
      "Train Epoch: 2 [56320/60000 (94%)]\tLoss: 0.173696\n",
      "Train Epoch: 2 [56960/60000 (95%)]\tLoss: 0.167433\n",
      "Train Epoch: 2 [57600/60000 (96%)]\tLoss: 0.088224\n",
      "Train Epoch: 2 [58240/60000 (97%)]\tLoss: 0.167647\n",
      "Train Epoch: 2 [58880/60000 (98%)]\tLoss: 0.178451\n",
      "Train Epoch: 2 [59520/60000 (99%)]\tLoss: 0.370728\n",
      "\n",
      "Test set: Avg. loss: 0.2397, Accuracy: 9312/10000 (93%)\n",
      "\n",
      "Train Epoch: 3 [0/60000 (0%)]\tLoss: 0.344021\n",
      "Train Epoch: 3 [640/60000 (1%)]\tLoss: 0.287674\n",
      "Train Epoch: 3 [1280/60000 (2%)]\tLoss: 0.160479\n",
      "Train Epoch: 3 [1920/60000 (3%)]\tLoss: 0.144652\n",
      "Train Epoch: 3 [2560/60000 (4%)]\tLoss: 0.242737\n",
      "Train Epoch: 3 [3200/60000 (5%)]\tLoss: 0.285142\n",
      "Train Epoch: 3 [3840/60000 (6%)]\tLoss: 0.217470\n",
      "Train Epoch: 3 [4480/60000 (7%)]\tLoss: 0.188660\n",
      "Train Epoch: 3 [5120/60000 (9%)]\tLoss: 0.120230\n",
      "Train Epoch: 3 [5760/60000 (10%)]\tLoss: 0.151979\n",
      "Train Epoch: 3 [6400/60000 (11%)]\tLoss: 0.242294\n",
      "Train Epoch: 3 [7040/60000 (12%)]\tLoss: 0.171264\n",
      "Train Epoch: 3 [7680/60000 (13%)]\tLoss: 0.152476\n",
      "Train Epoch: 3 [8320/60000 (14%)]\tLoss: 0.109128\n",
      "Train Epoch: 3 [8960/60000 (15%)]\tLoss: 0.255516\n",
      "Train Epoch: 3 [9600/60000 (16%)]\tLoss: 0.235247\n",
      "Train Epoch: 3 [10240/60000 (17%)]\tLoss: 0.250441\n",
      "Train Epoch: 3 [10880/60000 (18%)]\tLoss: 0.396029\n",
      "Train Epoch: 3 [11520/60000 (19%)]\tLoss: 0.133101\n",
      "Train Epoch: 3 [12160/60000 (20%)]\tLoss: 0.208008\n",
      "Train Epoch: 3 [12800/60000 (21%)]\tLoss: 0.180862\n",
      "Train Epoch: 3 [13440/60000 (22%)]\tLoss: 0.275098\n",
      "Train Epoch: 3 [14080/60000 (23%)]\tLoss: 0.224051\n",
      "Train Epoch: 3 [14720/60000 (25%)]\tLoss: 0.131027\n",
      "Train Epoch: 3 [15360/60000 (26%)]\tLoss: 0.361579\n",
      "Train Epoch: 3 [16000/60000 (27%)]\tLoss: 0.269922\n",
      "Train Epoch: 3 [16640/60000 (28%)]\tLoss: 0.266273\n",
      "Train Epoch: 3 [17280/60000 (29%)]\tLoss: 0.248387\n",
      "Train Epoch: 3 [17920/60000 (30%)]\tLoss: 0.217574\n",
      "Train Epoch: 3 [18560/60000 (31%)]\tLoss: 0.223405\n",
      "Train Epoch: 3 [19200/60000 (32%)]\tLoss: 0.245501\n",
      "Train Epoch: 3 [19840/60000 (33%)]\tLoss: 0.209253\n",
      "Train Epoch: 3 [20480/60000 (34%)]\tLoss: 0.194748\n",
      "Train Epoch: 3 [21120/60000 (35%)]\tLoss: 0.222805\n",
      "Train Epoch: 3 [21760/60000 (36%)]\tLoss: 0.520860\n",
      "Train Epoch: 3 [22400/60000 (37%)]\tLoss: 0.132359\n",
      "Train Epoch: 3 [23040/60000 (38%)]\tLoss: 0.270062\n",
      "Train Epoch: 3 [23680/60000 (39%)]\tLoss: 0.158718\n",
      "Train Epoch: 3 [24320/60000 (41%)]\tLoss: 0.262841\n",
      "Train Epoch: 3 [24960/60000 (42%)]\tLoss: 0.152685\n",
      "Train Epoch: 3 [25600/60000 (43%)]\tLoss: 0.236680\n",
      "Train Epoch: 3 [26240/60000 (44%)]\tLoss: 0.181415\n",
      "Train Epoch: 3 [26880/60000 (45%)]\tLoss: 0.434968\n",
      "Train Epoch: 3 [27520/60000 (46%)]\tLoss: 0.129138\n",
      "Train Epoch: 3 [28160/60000 (47%)]\tLoss: 0.225310\n",
      "Train Epoch: 3 [28800/60000 (48%)]\tLoss: 0.199288\n",
      "Train Epoch: 3 [29440/60000 (49%)]\tLoss: 0.194912\n",
      "Train Epoch: 3 [30080/60000 (50%)]\tLoss: 0.144724\n",
      "Train Epoch: 3 [30720/60000 (51%)]\tLoss: 0.154053\n",
      "Train Epoch: 3 [31360/60000 (52%)]\tLoss: 0.308899\n",
      "Train Epoch: 3 [32000/60000 (53%)]\tLoss: 0.197498\n",
      "Train Epoch: 3 [32640/60000 (54%)]\tLoss: 0.250531\n",
      "Train Epoch: 3 [33280/60000 (55%)]\tLoss: 0.104966\n",
      "Train Epoch: 3 [33920/60000 (57%)]\tLoss: 0.303738\n",
      "Train Epoch: 3 [34560/60000 (58%)]\tLoss: 0.129183\n",
      "Train Epoch: 3 [35200/60000 (59%)]\tLoss: 0.213672\n",
      "Train Epoch: 3 [35840/60000 (60%)]\tLoss: 0.365066\n",
      "Train Epoch: 3 [36480/60000 (61%)]\tLoss: 0.179513\n",
      "Train Epoch: 3 [37120/60000 (62%)]\tLoss: 0.186668\n",
      "Train Epoch: 3 [37760/60000 (63%)]\tLoss: 0.094565\n",
      "Train Epoch: 3 [38400/60000 (64%)]\tLoss: 0.199933\n",
      "Train Epoch: 3 [39040/60000 (65%)]\tLoss: 0.282675\n",
      "Train Epoch: 3 [39680/60000 (66%)]\tLoss: 0.127321\n",
      "Train Epoch: 3 [40320/60000 (67%)]\tLoss: 0.179454\n",
      "Train Epoch: 3 [40960/60000 (68%)]\tLoss: 0.081789\n",
      "Train Epoch: 3 [41600/60000 (69%)]\tLoss: 0.139983\n",
      "Train Epoch: 3 [42240/60000 (70%)]\tLoss: 0.306333\n",
      "Train Epoch: 3 [42880/60000 (71%)]\tLoss: 0.281371\n",
      "Train Epoch: 3 [43520/60000 (72%)]\tLoss: 0.159500\n",
      "Train Epoch: 3 [44160/60000 (74%)]\tLoss: 0.213997\n",
      "Train Epoch: 3 [44800/60000 (75%)]\tLoss: 0.366086\n",
      "Train Epoch: 3 [45440/60000 (76%)]\tLoss: 0.112980\n",
      "Train Epoch: 3 [46080/60000 (77%)]\tLoss: 0.250790\n",
      "Train Epoch: 3 [46720/60000 (78%)]\tLoss: 0.128400\n",
      "Train Epoch: 3 [47360/60000 (79%)]\tLoss: 0.197961\n",
      "Train Epoch: 3 [48000/60000 (80%)]\tLoss: 0.235891\n",
      "Train Epoch: 3 [48640/60000 (81%)]\tLoss: 0.167374\n",
      "Train Epoch: 3 [49280/60000 (82%)]\tLoss: 0.224581\n",
      "Train Epoch: 3 [49920/60000 (83%)]\tLoss: 0.149583\n",
      "Train Epoch: 3 [50560/60000 (84%)]\tLoss: 0.349907\n",
      "Train Epoch: 3 [51200/60000 (85%)]\tLoss: 0.247706\n",
      "Train Epoch: 3 [51840/60000 (86%)]\tLoss: 0.175074\n",
      "Train Epoch: 3 [52480/60000 (87%)]\tLoss: 0.191445\n",
      "Train Epoch: 3 [53120/60000 (88%)]\tLoss: 0.151967\n",
      "Train Epoch: 3 [53760/60000 (90%)]\tLoss: 0.157011\n",
      "Train Epoch: 3 [54400/60000 (91%)]\tLoss: 0.382560\n",
      "Train Epoch: 3 [55040/60000 (92%)]\tLoss: 0.150564\n",
      "Train Epoch: 3 [55680/60000 (93%)]\tLoss: 0.236583\n",
      "Train Epoch: 3 [56320/60000 (94%)]\tLoss: 0.213816\n",
      "Train Epoch: 3 [56960/60000 (95%)]\tLoss: 0.162240\n",
      "Train Epoch: 3 [57600/60000 (96%)]\tLoss: 0.168774\n",
      "Train Epoch: 3 [58240/60000 (97%)]\tLoss: 0.200595\n",
      "Train Epoch: 3 [58880/60000 (98%)]\tLoss: 0.257800\n",
      "Train Epoch: 3 [59520/60000 (99%)]\tLoss: 0.126377\n",
      "\n",
      "Test set: Avg. loss: 0.2032, Accuracy: 9407/10000 (94%)\n",
      "\n"
     ]
    }
   ],
   "source": [
    "test()\n",
    "for epoch in range(1, n_epochs + 1):\n",
    "  train(epoch)\n",
    "  test()"
   ]
  },
  {
   "cell_type": "code",
   "execution_count": null,
   "metadata": {},
   "outputs": [
    {
     "data": {
      "text/plain": [
       "<matplotlib.legend.Legend at 0x1ce33b9b9d0>"
      ]
     },
     "execution_count": 40,
     "metadata": {},
     "output_type": "execute_result"
    },
    {
     "data": {
      "image/png": "[encoded data removed]",
      "text/plain": [
       "<Figure size 640x480 with 1 Axes>"
      ]
     },
     "metadata": {},
     "output_type": "display_data"
    }
   ],
   "source": [
    "import matplotlib.pyplot as plt\n",
    "import numpy as np\n",
    "\n",
    "# plt.plot(train_losses, np.arange())\n",
    "#plot the training loss vs epoch graph\n",
    "\n",
    "plt.plot(train_losses, color='g')\n",
    "plt.legend(['Train Loss'], loc='upper right')"
   ]
  },
  {
   "cell_type": "code",
   "execution_count": null,
   "metadata": {},
   "outputs": [
    {
     "data": {
      "text/plain": [
       "<matplotlib.legend.Legend at 0x1ce33e4e750>"
      ]
     },
     "execution_count": 46,
     "metadata": {},
     "output_type": "execute_result"
    },
    {
     "data": {
      "image/png": "[encoded data removed]",
      "text/plain": [
       "<Figure size 640x480 with 1 Axes>"
      ]
     },
     "metadata": {},
     "output_type": "display_data"
    }
   ],
   "source": [
    "plt.plot(train_losses[int(len(train_losses)/2):], color='b')\n",
    "plt.legend(['Test Loss using BP'], loc='upper right')"
   ]
  }
 ],
 "metadata": {
  "kernelspec": {
   "display_name": "Python 3",
   "language": "python",
   "name": "python3"
  },
  "language_info": {
   "codemirror_mode": {
    "name": "ipython",
    "version": 3
   },
   "file_extension": ".py",
   "mimetype": "text/x-python",
   "name": "python",
   "nbconvert_exporter": "python",
   "pygments_lexer": "ipython3",
   "version": "3.11.8"
  }
 },
 "nbformat": 4,
 "nbformat_minor": 2
}
